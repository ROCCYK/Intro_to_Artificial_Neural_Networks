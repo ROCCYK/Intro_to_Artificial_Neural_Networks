version https://git-lfs.github.com/spec/v1
oid sha256:21b35dcd1f01a1d401aafbc424133a9caac30cc1ad735e601f0cec4cdf862e6c
size 34514
