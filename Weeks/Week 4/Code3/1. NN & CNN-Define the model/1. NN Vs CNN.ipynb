version https://git-lfs.github.com/spec/v1
oid sha256:29f9a27c911fc56698a951379593fe43533892c7bdf90bd0c631986fbedbb864
size 57613
