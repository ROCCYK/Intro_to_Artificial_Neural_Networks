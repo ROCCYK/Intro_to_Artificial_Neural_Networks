version https://git-lfs.github.com/spec/v1
oid sha256:049bca671ce0662ef7124d3cdaf8dcd752d24a9ad9a45367c7f5c0d38e1565d3
size 11570
