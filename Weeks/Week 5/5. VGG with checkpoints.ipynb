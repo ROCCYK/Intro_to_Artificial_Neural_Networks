version https://git-lfs.github.com/spec/v1
oid sha256:0205bc5691962494e5b17b36fd1e0158b276954fd8d60b98bfb71102c9a10681
size 16281
