version https://git-lfs.github.com/spec/v1
oid sha256:690e3b10b42ce3ee69a109edf252b140a0ab90c2ce00dafc6405a2bbb32e2ce6
size 1315367
