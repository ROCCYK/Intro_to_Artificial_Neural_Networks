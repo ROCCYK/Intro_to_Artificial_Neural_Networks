version https://git-lfs.github.com/spec/v1
oid sha256:956119c16b90436c2eef74e52072e6c90c915b40ab012fe098fad27b86d5ec0e
size 149414
