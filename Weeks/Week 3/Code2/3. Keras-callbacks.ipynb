version https://git-lfs.github.com/spec/v1
oid sha256:bea8a29383c0284e03b92a60c2ca1fb8dd45997a1fdccd898c2ee505ba14d4f0
size 86790
