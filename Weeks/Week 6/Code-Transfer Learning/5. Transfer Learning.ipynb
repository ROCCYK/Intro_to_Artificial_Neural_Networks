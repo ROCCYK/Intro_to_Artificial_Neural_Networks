version https://git-lfs.github.com/spec/v1
oid sha256:8cdc11e53de77bde9f8bc7b444b792c7139efecddaf529521b9c51947dcfe7df
size 565067
