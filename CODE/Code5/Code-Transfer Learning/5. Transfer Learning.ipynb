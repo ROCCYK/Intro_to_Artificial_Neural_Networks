version https://git-lfs.github.com/spec/v1
oid sha256:b02b36c3a948aa3d12c0ba7fda27bcc8eacf1c92bd058e38633cb04481a11e89
size 565664
