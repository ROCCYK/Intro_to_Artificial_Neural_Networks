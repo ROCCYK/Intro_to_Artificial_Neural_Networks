version https://git-lfs.github.com/spec/v1
oid sha256:acc9ba10623de313f2ae979b8be3c28a946e2a3719fc9bfb07a673495864c6a0
size 918
