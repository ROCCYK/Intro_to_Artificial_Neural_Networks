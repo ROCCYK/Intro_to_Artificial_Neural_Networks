version https://git-lfs.github.com/spec/v1
oid sha256:7fee173f4564ebe3a82319754020755e2b0e87525683b18b656a5509a0b3d48f
size 1315886
