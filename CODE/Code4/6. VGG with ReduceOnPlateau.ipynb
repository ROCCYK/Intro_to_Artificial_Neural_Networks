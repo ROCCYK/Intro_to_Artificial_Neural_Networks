version https://git-lfs.github.com/spec/v1
oid sha256:7af08279a4df1f996351b067d4703d3b50415d1fea2cbdae065d493a6f3edd89
size 16335
