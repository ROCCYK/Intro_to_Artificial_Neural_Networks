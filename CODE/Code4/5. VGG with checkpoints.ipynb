version https://git-lfs.github.com/spec/v1
oid sha256:ff3a537aa9f8bea36ec94b89105fbfbb8bb20397600f9ed77557cc92f34f1dc7
size 16662
