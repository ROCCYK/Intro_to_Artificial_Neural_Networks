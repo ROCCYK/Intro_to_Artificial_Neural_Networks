version https://git-lfs.github.com/spec/v1
oid sha256:da93d1fe4c0959aa04239f727c438cea8a0773e6b2682bb602a47927c73821b5
size 163005
