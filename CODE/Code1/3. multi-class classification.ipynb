{
 "cells": [
  {
   "cell_type": "markdown",
   "id": "fb74e5b9",
   "metadata": {},
   "source": [
    "### 1. Import all the required libraries and read data:"
   ]
  },
  {
   "cell_type": "code",
   "execution_count": 1,
   "id": "528dc067",
   "metadata": {},
   "outputs": [],
   "source": [
    "# Data visualization\n",
    "import matplotlib.pyplot as plt\n",
    "import seaborn as sns\n",
    "import numpy as np\n",
    "import pandas as pd \n",
    "# Keras\n",
    "from keras.models import Sequential\n",
    "from keras.layers import Dense, Dropout\n",
    "from keras.optimizers import SGD, Adam, Adadelta, RMSprop\n",
    "import keras.backend as K\n",
    "# Train-Test\n",
    "from sklearn.model_selection import train_test_split\n",
    "# Scaling data\n",
    "from sklearn.preprocessing import StandardScaler\n",
    "# Classification Report\n",
    "from sklearn.metrics import classification_report\n",
    "from keras.utils.np_utils import to_categorical\n",
    "import os\n",
    "os.environ[\"CUDA_VISIBLE_DEVICES\"] = \"-1\" "
   ]
  },
  {
   "cell_type": "code",
   "execution_count": 2,
   "id": "8e41b103",
   "metadata": {},
   "outputs": [],
   "source": [
    "df = pd.read_csv('kl.csv',encoding='ISO-8859-1')"
   ]
  },
  {
   "cell_type": "markdown",
   "id": "fc3f8152",
   "metadata": {},
   "source": [
    "### 2. Remove all null values from position:"
   ]
  },
  {
   "cell_type": "code",
   "execution_count": 3,
   "id": "2dfedffd",
   "metadata": {},
   "outputs": [],
   "source": [
    "# Remove Missing Values \n",
    "na = pd.notnull(df[\"Position\"])\n",
    "df = df[na]"
   ]
  },
  {
   "cell_type": "markdown",
   "id": "3b65b5fb",
   "metadata": {},
   "source": [
    "### 3. Get the required features for our classification problem:"
   ]
  },
  {
   "cell_type": "code",
   "execution_count": 4,
   "id": "8c63aa24",
   "metadata": {},
   "outputs": [],
   "source": [
    "df = df[[\"Position\", 'Finishing', 'HeadingAccuracy', 'ShortPassing', 'Volleys', 'Dribbling',\n",
    "       'Curve', 'FKAccuracy', 'LongPassing', 'BallControl', 'Acceleration',\n",
    "       'SprintSpeed', 'Agility', 'Reactions', 'Balance', 'ShotPower',\n",
    "       'Jumping', 'Stamina', 'Strength', 'LongShots', 'Aggression',\n",
    "       'Interceptions', 'Positioning', 'Vision', 'Penalties', 'Composure',\n",
    "       'Marking', 'StandingTackle', 'SlidingTackle', 'GKDiving', 'GKHandling',\n",
    "       'GKKicking', 'GKPositioning', 'GKReflexes']]"
   ]
  },
  {
   "cell_type": "markdown",
   "id": "a478ebec",
   "metadata": {},
   "source": [
    "### 4. Categorizing positions:"
   ]
  },
  {
   "cell_type": "code",
   "execution_count": 5,
   "id": "aea1184e",
   "metadata": {},
   "outputs": [],
   "source": [
    "forward_player = [\"ST\", \"LW\", \"RW\", \"LF\", \"RF\", \"RS\",\"LS\", \"CF\"]\n",
    "midfielder_player = [\"CM\",\"RCM\",\"LCM\", \"CDM\",\"RDM\",\"LDM\", \"CAM\", \"LAM\", \"RAM\", \"RM\", \"LM\"]\n",
    "defender_player = [\"CB\", \"RCB\", \"LCB\", \"LWB\", \"RWB\", \"LB\", \"RB\"]\n",
    "df.loc[df[\"Position\"] == \"GK\", \"Position\"] = 0\n",
    "\n",
    "df.loc[df[\"Position\"].isin(defender_player), \"Position\"] = 1\n",
    "\n",
    "df.loc[df[\"Position\"].isin(midfielder_player), \"Position\"] = 2\n",
    "\n",
    "df.loc[df[\"Position\"].isin(forward_player), \"Position\"] = 3"
   ]
  },
  {
   "cell_type": "markdown",
   "id": "3e9d1ecc",
   "metadata": {},
   "source": [
    "### 5. Standard Scaling of features:"
   ]
  },
  {
   "cell_type": "code",
   "execution_count": 6,
   "id": "737afc9f",
   "metadata": {},
   "outputs": [],
   "source": [
    "x = df.drop(\"Position\", axis = 1)\n",
    "from sklearn.preprocessing import StandardScaler\n",
    "sc = StandardScaler()\n",
    "x = pd.DataFrame(sc.fit_transform(x))\n",
    "y = df[\"Position\"]"
   ]
  },
  {
   "cell_type": "markdown",
   "id": "3aa21af3",
   "metadata": {},
   "source": [
    "### 6. Converting prediction to categorical:"
   ]
  },
  {
   "cell_type": "code",
   "execution_count": 7,
   "id": "0501741b",
   "metadata": {},
   "outputs": [],
   "source": [
    "y_cat = to_categorical(y)"
   ]
  },
  {
   "cell_type": "code",
   "execution_count": 8,
   "id": "7058177b",
   "metadata": {},
   "outputs": [
    {
     "data": {
      "text/plain": [
       "array([[0., 0., 0., 1.],\n",
       "       [0., 0., 0., 1.],\n",
       "       [0., 0., 0., 1.],\n",
       "       ...,\n",
       "       [0., 0., 0., 1.],\n",
       "       [0., 0., 0., 1.],\n",
       "       [0., 0., 1., 0.]], dtype=float32)"
      ]
     },
     "execution_count": 8,
     "metadata": {},
     "output_type": "execute_result"
    }
   ],
   "source": [
    "y_cat "
   ]
  },
  {
   "cell_type": "markdown",
   "id": "cdb2b804",
   "metadata": {},
   "source": [
    "### 7. Test Train Split:"
   ]
  },
  {
   "cell_type": "code",
   "execution_count": 9,
   "id": "b165ee7c",
   "metadata": {},
   "outputs": [],
   "source": [
    "from sklearn.model_selection import train_test_split\n",
    "x_train, x_test, y_train, y_test = train_test_split(x.values, y_cat, test_size=0.2)"
   ]
  },
  {
   "cell_type": "code",
   "execution_count": 10,
   "id": "f10e29a0",
   "metadata": {},
   "outputs": [
    {
     "data": {
      "text/plain": [
       "(14517, 33)"
      ]
     },
     "execution_count": 10,
     "metadata": {},
     "output_type": "execute_result"
    }
   ],
   "source": [
    "x_train.shape"
   ]
  },
  {
   "cell_type": "code",
   "execution_count": 11,
   "id": "20e1d7a7",
   "metadata": {},
   "outputs": [
    {
     "data": {
      "text/plain": [
       "(14517, 4)"
      ]
     },
     "execution_count": 11,
     "metadata": {},
     "output_type": "execute_result"
    }
   ],
   "source": [
    "y_train.shape"
   ]
  },
  {
   "cell_type": "markdown",
   "id": "51c64e6d",
   "metadata": {},
   "source": [
    "### 8. Build the model:"
   ]
  },
  {
   "cell_type": "code",
   "execution_count": null,
   "id": "74945f1d",
   "metadata": {},
   "outputs": [],
   "source": [
    "model = Sequential()\n",
    "model.add(Dense(60, input_shape = (33,), activation = \"relu\"))\n",
    "model.add(Dense(15, activation = \"relu\"))\n",
    "model.add(Dropout(0.2))\n",
    "model.add(Dense(4, activation = \"softmax\"))\n",
    "model.compile(Adam(lr = 0.01), \"categorical_crossentropy\", metrics = [\"accuracy\"])\n",
    "model.summary()"
   ]
  },
  {
   "cell_type": "markdown",
   "id": "aaa6a647",
   "metadata": {},
   "source": [
    "### 9. Fit the model and run for 10 epochs:"
   ]
  },
  {
   "cell_type": "code",
   "execution_count": 13,
   "id": "dac9abea",
   "metadata": {},
   "outputs": [
    {
     "name": "stdout",
     "output_type": "stream",
     "text": [
      "Epoch 1/10\n",
      "454/454 [==============================] - 1s 561us/step - loss: 0.3877 - accuracy: 0.8420\n",
      "Epoch 2/10\n",
      "454/454 [==============================] - 0s 541us/step - loss: 0.3363 - accuracy: 0.8621\n",
      "Epoch 3/10\n",
      "454/454 [==============================] - 0s 541us/step - loss: 0.3312 - accuracy: 0.8663\n",
      "Epoch 4/10\n",
      "454/454 [==============================] - 0s 536us/step - loss: 0.3212 - accuracy: 0.8686\n",
      "Epoch 5/10\n",
      "454/454 [==============================] - 0s 543us/step - loss: 0.3152 - accuracy: 0.8693\n",
      "Epoch 6/10\n",
      "454/454 [==============================] - 0s 550us/step - loss: 0.3127 - accuracy: 0.8717\n",
      "Epoch 7/10\n",
      "454/454 [==============================] - 0s 625us/step - loss: 0.3269 - accuracy: 0.8704\n",
      "Epoch 8/10\n",
      "454/454 [==============================] - 0s 576us/step - loss: 0.3503 - accuracy: 0.8626\n",
      "Epoch 9/10\n",
      "454/454 [==============================] - 0s 563us/step - loss: 0.3120 - accuracy: 0.8711\n",
      "Epoch 10/10\n",
      "454/454 [==============================] - 0s 649us/step - loss: 0.3039 - accuracy: 0.8726\n"
     ]
    },
    {
     "data": {
      "text/plain": [
       "<tensorflow.python.keras.callbacks.History at 0x1b892600040>"
      ]
     },
     "execution_count": 13,
     "metadata": {},
     "output_type": "execute_result"
    }
   ],
   "source": [
    "model.fit(x_train, y_train, verbose=1, epochs=10)"
   ]
  },
  {
   "cell_type": "markdown",
   "id": "2bd081db",
   "metadata": {},
   "source": [
    "### 10. Confusion Matrix:"
   ]
  },
  {
   "cell_type": "code",
   "execution_count": null,
   "id": "050d3963",
   "metadata": {},
   "outputs": [],
   "source": [
    "y_pred_class = model.predict_classes(x_test)\n",
    "from sklearn.metrics import confusion_matrix\n",
    "y_pred = model.predict(x_test)\n",
    "y_test_class = np.argmax(y_test, axis=1)\n",
    "confusion_matrix(y_test_class, y_pred_class)"
   ]
  },
  {
   "cell_type": "code",
   "execution_count": 15,
   "id": "e6618801",
   "metadata": {},
   "outputs": [
    {
     "data": {
      "text/plain": [
       "array([[0.0000000e+00, 6.4129857e-17, 7.6268923e-05, 9.9992371e-01],\n",
       "       [1.4602358e-12, 1.2538767e-02, 9.8740476e-01, 5.6391800e-05],\n",
       "       [7.4885314e-18, 9.3622899e-01, 6.3326858e-02, 4.4420600e-04],\n",
       "       ...,\n",
       "       [3.6254666e-10, 9.2757724e-02, 9.0721786e-01, 2.4420928e-05],\n",
       "       [2.1254230e-26, 5.9106458e-09, 7.8228086e-02, 9.2177188e-01],\n",
       "       [3.8759559e-22, 9.7102666e-01, 2.8917419e-02, 5.5919689e-05]],\n",
       "      dtype=float32)"
      ]
     },
     "execution_count": 15,
     "metadata": {},
     "output_type": "execute_result"
    }
   ],
   "source": [
    "y_pred"
   ]
  },
  {
   "cell_type": "code",
   "execution_count": 16,
   "id": "e45bdaf9",
   "metadata": {},
   "outputs": [
    {
     "data": {
      "text/plain": [
       "array([3, 2, 1, ..., 2, 3, 1], dtype=int64)"
      ]
     },
     "execution_count": 16,
     "metadata": {},
     "output_type": "execute_result"
    }
   ],
   "source": [
    "y_test_class"
   ]
  },
  {
   "cell_type": "markdown",
   "id": "6dcf2299",
   "metadata": {},
   "source": [
    "### 11. Classification Report:"
   ]
  },
  {
   "cell_type": "code",
   "execution_count": 17,
   "id": "f46dba45",
   "metadata": {},
   "outputs": [
    {
     "name": "stdout",
     "output_type": "stream",
     "text": [
      "              precision    recall  f1-score   support\n",
      "\n",
      "           0       1.00      1.00      1.00       415\n",
      "           1       0.93      0.90      0.91      1228\n",
      "           2       0.82      0.87      0.84      1337\n",
      "           3       0.84      0.78      0.81       650\n",
      "\n",
      "    accuracy                           0.88      3630\n",
      "   macro avg       0.90      0.89      0.89      3630\n",
      "weighted avg       0.88      0.88      0.88      3630\n",
      "\n"
     ]
    }
   ],
   "source": [
    "from sklearn.metrics import classification_report\n",
    "print(classification_report(y_test_class, y_pred_class))"
   ]
  }
 ],
 "metadata": {
  "kernelspec": {
   "display_name": "Python 3 (ipykernel)",
   "language": "python",
   "name": "python3"
  },
  "language_info": {
   "codemirror_mode": {
    "name": "ipython",
    "version": 3
   },
   "file_extension": ".py",
   "mimetype": "text/x-python",
   "name": "python",
   "nbconvert_exporter": "python",
   "pygments_lexer": "ipython3",
   "version": "3.9.7"
  }
 },
 "nbformat": 4,
 "nbformat_minor": 5
}
