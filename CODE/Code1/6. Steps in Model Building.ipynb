{
 "cells": [
  {
   "cell_type": "markdown",
   "metadata": {
    "id": "GStqCcwvYMCE"
   },
   "source": [
    "### Steps to building your deep learning model\n",
    "\n",
    "**1. Load data and understand the problem to be solved:** Plot data, is it balanced, do you have enough data, do you need image augmentation, is it large data that doesn't fit memory, etc.\n",
    "\n",
    "**2. Cleanup and preprocess data:** Remove null for structured data, extract features if not provided, select/drop appropriate features, balance classes, scale/normalize data, etc.\n",
    "\n",
    "**3. Get data ready for training:** Reshape data and define X_train, X_test, X_val, y_train, y_test, y_val, define augmentation\n",
    "\n",
    "**4. Define the model:** How many layers, appropriate activation functions, do you need to add dropout, appropriate optimizer, loss, metrics, use transfer learning?\n",
    "\n",
    "**5. Train the model:** Ensure enough validation data for good accuracy checks during training.\n",
    "\n",
    "**6. Re-train, if necessary:** Check accuracy on test data, understand learning curves and continue training the model, if needed.\n",
    "\n",
    "**7. Save the model for future use:**  \n",
    "\n",
    "\n",
    "\n"
   ]
  },
  {
   "cell_type": "code",
   "execution_count": null,
   "metadata": {
    "id": "Ex9OhzR8XS4d"
   },
   "outputs": [],
   "source": [
    "\"\"\"\n",
    "\n",
    "Dataset information:\n",
    "https://archive.ics.uci.edu/ml/datasets/Breast+Cancer+Wisconsin+(Diagnostic)\n",
    "## 'data.frame':    569 obs. of  31 variables:\n",
    "##  $ diagnosis              : Factor w/ 2 levels \"Benign\",\"Malignant\": 2 2 2 2 2 2 2 2 2 2 ...\n",
    "##  $ radius_mean            : num  18 20.6 19.7 11.4 20.3 ...\n",
    "##  $ texture_mean           : num  10.4 17.8 21.2 20.4 14.3 ...\n",
    "##  $ perimeter_mean         : num  122.8 132.9 130 77.6 135.1 ...\n",
    "##  $ area_mean              : num  1001 1326 1203 386 1297 ...\n",
    "##  $ smoothness_mean        : num  0.1184 0.0847 0.1096 0.1425 0.1003 ...\n",
    "##  $ compactness_mean       : num  0.2776 0.0786 0.1599 0.2839 0.1328 ...\n",
    "##  $ concavity_mean         : num  0.3001 0.0869 0.1974 0.2414 0.198 ...\n",
    "##  $ concave.points_mean    : num  0.1471 0.0702 0.1279 0.1052 0.1043 ...\n",
    "##  $ symmetry_mean          : num  0.242 0.181 0.207 0.26 0.181 ...\n",
    "##  $ fractal_dimension_mean : num  0.0787 0.0567 0.06 0.0974 0.0588 ...\n",
    "##  $ radius_se              : num  1.095 0.543 0.746 0.496 0.757 ...\n",
    "##  $ texture_se             : num  0.905 0.734 0.787 1.156 0.781 ...\n",
    "##  $ perimeter_se           : num  8.59 3.4 4.58 3.44 5.44 ...\n",
    "##  $ area_se                : num  153.4 74.1 94 27.2 94.4 ...\n",
    "##  $ smoothness_se          : num  0.0064 0.00522 0.00615 0.00911 0.01149 ...\n",
    "##  $ compactness_se         : num  0.049 0.0131 0.0401 0.0746 0.0246 ...\n",
    "##  $ concavity_se           : num  0.0537 0.0186 0.0383 0.0566 0.0569 ...\n",
    "##  $ concave.points_se      : num  0.0159 0.0134 0.0206 0.0187 0.0188 ...\n",
    "##  $ symmetry_se            : num  0.03 0.0139 0.0225 0.0596 0.0176 ...\n",
    "##  $ fractal_dimension_se   : num  0.00619 0.00353 0.00457 0.00921 0.00511 ...\n",
    "##  $ radius_worst           : num  25.4 25 23.6 14.9 22.5 ...\n",
    "##  $ texture_worst          : num  17.3 23.4 25.5 26.5 16.7 ...\n",
    "##  $ perimeter_worst        : num  184.6 158.8 152.5 98.9 152.2 ...\n",
    "##  $ area_worst             : num  2019 1956 1709 568 1575 ...\n",
    "##  $ smoothness_worst       : num  0.162 0.124 0.144 0.21 0.137 ...\n",
    "##  $ compactness_worst      : num  0.666 0.187 0.424 0.866 0.205 ...\n",
    "##  $ concavity_worst        : num  0.712 0.242 0.45 0.687 0.4 ...\n",
    "##  $ concave.points_worst   : num  0.265 0.186 0.243 0.258 0.163 ...\n",
    "##  $ symmetry_worst         : num  0.46 0.275 0.361 0.664 0.236 ...\n",
    "##  $ fractal_dimension_worst: num  0.1189 0.089 0.0876 0.173 0.0768 ...\n",
    "\n",
    "\"\"\""
   ]
  },
  {
   "cell_type": "markdown",
   "metadata": {
    "id": "9RDWadhFlQe1"
   },
   "source": [
    "**1. Load data and understand the problem to be solved:** Plot data, is it balanced, do you have enough data, do you need image augmentation, is it large data that doesn't fit memory, etc."
   ]
  },
  {
   "cell_type": "code",
   "execution_count": 1,
   "metadata": {
    "id": "LvcZWwuGYCJO"
   },
   "outputs": [],
   "source": [
    "import pandas as pd\n",
    "from matplotlib import pyplot as plt\n",
    "import seaborn as sns\n",
    "import numpy as np"
   ]
  },
  {
   "cell_type": "code",
   "execution_count": 2,
   "metadata": {
    "id": "KA-qsHWMYMfm"
   },
   "outputs": [],
   "source": [
    "df = pd.read_csv(\"breast_cancer_data.csv\")"
   ]
  },
  {
   "cell_type": "code",
   "execution_count": 3,
   "metadata": {
    "colab": {
     "base_uri": "https://localhost:8080/"
    },
    "id": "BFWoZEZXma7_",
    "outputId": "70150e4f-8c21-4b4e-ae5b-94ce26451076"
   },
   "outputs": [
    {
     "name": "stdout",
     "output_type": "stream",
     "text": [
      "Index(['id', 'diagnosis', 'radius_mean', 'texture_mean', 'perimeter_mean',\n",
      "       'area_mean', 'smoothness_mean', 'compactness_mean', 'concavity_mean',\n",
      "       'concave points_mean', 'symmetry_mean', 'fractal_dimension_mean',\n",
      "       'radius_se', 'texture_se', 'perimeter_se', 'area_se', 'smoothness_se',\n",
      "       'compactness_se', 'concavity_se', 'concave points_se', 'symmetry_se',\n",
      "       'fractal_dimension_se', 'radius_worst', 'texture_worst',\n",
      "       'perimeter_worst', 'area_worst', 'smoothness_worst',\n",
      "       'compactness_worst', 'concavity_worst', 'concave points_worst',\n",
      "       'symmetry_worst', 'fractal_dimension_worst'],\n",
      "      dtype='object')\n"
     ]
    }
   ],
   "source": [
    "print(df.columns)"
   ]
  },
  {
   "cell_type": "code",
   "execution_count": 4,
   "metadata": {
    "colab": {
     "base_uri": "https://localhost:8080/"
    },
    "id": "O2THPyFpYUtw",
    "outputId": "58c10752-b007-4055-853b-c59cd3d904f0"
   },
   "outputs": [
    {
     "name": "stdout",
     "output_type": "stream",
     "text": [
      "                         count          mean           std          min  \\\n",
      "id                       569.0  3.037183e+07  1.250206e+08  8670.000000   \n",
      "radius_mean              569.0  1.412729e+01  3.524049e+00     6.981000   \n",
      "texture_mean             569.0  1.928965e+01  4.301036e+00     9.710000   \n",
      "perimeter_mean           569.0  9.196903e+01  2.429898e+01    43.790000   \n",
      "area_mean                569.0  6.548891e+02  3.519141e+02   143.500000   \n",
      "smoothness_mean          569.0  9.636028e-02  1.406413e-02     0.052630   \n",
      "compactness_mean         569.0  1.043410e-01  5.281276e-02     0.019380   \n",
      "concavity_mean           569.0  8.879932e-02  7.971981e-02     0.000000   \n",
      "concave points_mean      569.0  4.891915e-02  3.880284e-02     0.000000   \n",
      "symmetry_mean            569.0  1.811619e-01  2.741428e-02     0.106000   \n",
      "fractal_dimension_mean   569.0  6.279761e-02  7.060363e-03     0.049960   \n",
      "radius_se                569.0  4.051721e-01  2.773127e-01     0.111500   \n",
      "texture_se               569.0  1.216853e+00  5.516484e-01     0.360200   \n",
      "perimeter_se             569.0  2.866059e+00  2.021855e+00     0.757000   \n",
      "area_se                  569.0  4.033708e+01  4.549101e+01     6.802000   \n",
      "smoothness_se            569.0  7.040979e-03  3.002518e-03     0.001713   \n",
      "compactness_se           569.0  2.547814e-02  1.790818e-02     0.002252   \n",
      "concavity_se             569.0  3.189372e-02  3.018606e-02     0.000000   \n",
      "concave points_se        569.0  1.179614e-02  6.170285e-03     0.000000   \n",
      "symmetry_se              569.0  2.054230e-02  8.266372e-03     0.007882   \n",
      "fractal_dimension_se     569.0  3.794904e-03  2.646071e-03     0.000895   \n",
      "radius_worst             569.0  1.626919e+01  4.833242e+00     7.930000   \n",
      "texture_worst            569.0  2.567722e+01  6.146258e+00    12.020000   \n",
      "perimeter_worst          569.0  1.072612e+02  3.360254e+01    50.410000   \n",
      "area_worst               569.0  8.805831e+02  5.693570e+02   185.200000   \n",
      "smoothness_worst         569.0  1.323686e-01  2.283243e-02     0.071170   \n",
      "compactness_worst        569.0  2.542650e-01  1.573365e-01     0.027290   \n",
      "concavity_worst          569.0  2.721885e-01  2.086243e-01     0.000000   \n",
      "concave points_worst     569.0  1.146062e-01  6.573234e-02     0.000000   \n",
      "symmetry_worst           569.0  2.900756e-01  6.186747e-02     0.156500   \n",
      "fractal_dimension_worst  569.0  8.394582e-02  1.806127e-02     0.055040   \n",
      "\n",
      "                                   25%            50%           75%  \\\n",
      "id                       869218.000000  906024.000000  8.813129e+06   \n",
      "radius_mean                  11.700000      13.370000  1.578000e+01   \n",
      "texture_mean                 16.170000      18.840000  2.180000e+01   \n",
      "perimeter_mean               75.170000      86.240000  1.041000e+02   \n",
      "area_mean                   420.300000     551.100000  7.827000e+02   \n",
      "smoothness_mean               0.086370       0.095870  1.053000e-01   \n",
      "compactness_mean              0.064920       0.092630  1.304000e-01   \n",
      "concavity_mean                0.029560       0.061540  1.307000e-01   \n",
      "concave points_mean           0.020310       0.033500  7.400000e-02   \n",
      "symmetry_mean                 0.161900       0.179200  1.957000e-01   \n",
      "fractal_dimension_mean        0.057700       0.061540  6.612000e-02   \n",
      "radius_se                     0.232400       0.324200  4.789000e-01   \n",
      "texture_se                    0.833900       1.108000  1.474000e+00   \n",
      "perimeter_se                  1.606000       2.287000  3.357000e+00   \n",
      "area_se                      17.850000      24.530000  4.519000e+01   \n",
      "smoothness_se                 0.005169       0.006380  8.146000e-03   \n",
      "compactness_se                0.013080       0.020450  3.245000e-02   \n",
      "concavity_se                  0.015090       0.025890  4.205000e-02   \n",
      "concave points_se             0.007638       0.010930  1.471000e-02   \n",
      "symmetry_se                   0.015160       0.018730  2.348000e-02   \n",
      "fractal_dimension_se          0.002248       0.003187  4.558000e-03   \n",
      "radius_worst                 13.010000      14.970000  1.879000e+01   \n",
      "texture_worst                21.080000      25.410000  2.972000e+01   \n",
      "perimeter_worst              84.110000      97.660000  1.254000e+02   \n",
      "area_worst                  515.300000     686.500000  1.084000e+03   \n",
      "smoothness_worst              0.116600       0.131300  1.460000e-01   \n",
      "compactness_worst             0.147200       0.211900  3.391000e-01   \n",
      "concavity_worst               0.114500       0.226700  3.829000e-01   \n",
      "concave points_worst          0.064930       0.099930  1.614000e-01   \n",
      "symmetry_worst                0.250400       0.282200  3.179000e-01   \n",
      "fractal_dimension_worst       0.071460       0.080040  9.208000e-02   \n",
      "\n",
      "                                  max  \n",
      "id                       9.113205e+08  \n",
      "radius_mean              2.811000e+01  \n",
      "texture_mean             3.928000e+01  \n",
      "perimeter_mean           1.885000e+02  \n",
      "area_mean                2.501000e+03  \n",
      "smoothness_mean          1.634000e-01  \n",
      "compactness_mean         3.454000e-01  \n",
      "concavity_mean           4.268000e-01  \n",
      "concave points_mean      2.012000e-01  \n",
      "symmetry_mean            3.040000e-01  \n",
      "fractal_dimension_mean   9.744000e-02  \n",
      "radius_se                2.873000e+00  \n",
      "texture_se               4.885000e+00  \n",
      "perimeter_se             2.198000e+01  \n",
      "area_se                  5.422000e+02  \n",
      "smoothness_se            3.113000e-02  \n",
      "compactness_se           1.354000e-01  \n",
      "concavity_se             3.960000e-01  \n",
      "concave points_se        5.279000e-02  \n",
      "symmetry_se              7.895000e-02  \n",
      "fractal_dimension_se     2.984000e-02  \n",
      "radius_worst             3.604000e+01  \n",
      "texture_worst            4.954000e+01  \n",
      "perimeter_worst          2.512000e+02  \n",
      "area_worst               4.254000e+03  \n",
      "smoothness_worst         2.226000e-01  \n",
      "compactness_worst        1.058000e+00  \n",
      "concavity_worst          1.252000e+00  \n",
      "concave points_worst     2.910000e-01  \n",
      "symmetry_worst           6.638000e-01  \n",
      "fractal_dimension_worst  2.075000e-01  \n"
     ]
    }
   ],
   "source": [
    "print(df.describe().T)"
   ]
  },
  {
   "cell_type": "code",
   "execution_count": 5,
   "metadata": {
    "colab": {
     "base_uri": "https://localhost:8080/",
     "height": 296
    },
    "id": "U-ZYTxkGZDdy",
    "outputId": "1580b8a4-c8e2-43f7-d5a6-a59c2119736a"
   },
   "outputs": [
    {
     "data": {
      "text/plain": [
       "<AxesSubplot:xlabel='diagnosis', ylabel='count'>"
      ]
     },
     "execution_count": 5,
     "metadata": {},
     "output_type": "execute_result"
    },
    {
     "data": {
      "image/png": "[encoded data removed]",
      "text/plain": [
       "<Figure size 432x288 with 1 Axes>"
      ]
     },
     "metadata": {
      "needs_background": "light"
     },
     "output_type": "display_data"
    }
   ],
   "source": [
    "#Understand the data\n",
    "sns.countplot(x=\"diagnosis\", data=df) #M - malignant   B - benign"
   ]
  },
  {
   "cell_type": "code",
   "execution_count": null,
   "metadata": {},
   "outputs": [],
   "source": [
    "fig, ax =plt.subplots(1,3, figsize=(15, 5))\n",
    "sns.histplot(df['radius_mean'], ax=ax[0])\n",
    "sns.histplot(df['area_mean'], ax=ax[1])\n",
    "sns.histplot(df['smoothness_se'], ax=ax[2])\n",
    "\n",
    "fig.show()"
   ]
  },
  {
   "cell_type": "code",
   "execution_count": null,
   "metadata": {},
   "outputs": [],
   "source": [
    "#Look for strong correlations so you can drop certain highly correlated features.\n",
    "fig, ax =plt.subplots(2,3, figsize=(15, 10))\n",
    "sns.lineplot(x=df['radius_mean'], y=df['perimeter_mean'], ax=ax[0,0])\n",
    "sns.lineplot(x=df['radius_mean'], y=df['area_mean'], ax=ax[0,1])\n",
    "sns.lineplot(x=df['radius_mean'], y=df['smoothness_mean'], ax=ax[0,2])\n",
    "sns.lineplot(x=df['radius_mean'], y=df['compactness_mean'], ax=ax[1,0])\n",
    "sns.lineplot(x=df['radius_mean'], y=df['concavity_mean'], ax=ax[1,1])\n",
    "sns.lineplot(x=df['radius_mean'], y=df['symmetry_mean'], ax=ax[1,2])\n",
    "\n",
    "fig.show()"
   ]
  },
  {
   "cell_type": "code",
   "execution_count": 8,
   "metadata": {
    "colab": {
     "base_uri": "https://localhost:8080/"
    },
    "id": "BLT2ghMRqWs_",
    "outputId": "fd8a973a-f888-416f-cc12-9fa0efc7af7a"
   },
   "outputs": [
    {
     "name": "stdout",
     "output_type": "stream",
     "text": [
      "                                 correlation\n",
      "radius_mean     perimeter_mean      0.997855\n",
      "perimeter_mean  radius_mean         0.997855\n",
      "radius_worst    perimeter_worst     0.993708\n",
      "perimeter_worst radius_worst        0.993708\n",
      "area_mean       radius_mean         0.987357\n",
      "radius_mean     area_mean           0.987357\n",
      "area_mean       perimeter_mean      0.986507\n",
      "perimeter_mean  area_mean           0.986507\n",
      "area_worst      radius_worst        0.984015\n",
      "radius_worst    area_worst          0.984015\n",
      "area_worst      perimeter_worst     0.977578\n",
      "perimeter_worst area_worst          0.977578\n",
      "radius_se       perimeter_se        0.972794\n",
      "perimeter_se    radius_se           0.972794\n",
      "perimeter_mean  perimeter_worst     0.970387\n",
      "perimeter_worst perimeter_mean      0.970387\n",
      "radius_worst    radius_mean         0.969539\n",
      "radius_mean     radius_worst        0.969539\n",
      "perimeter_mean  radius_worst        0.969476\n",
      "radius_worst    perimeter_mean      0.969476\n",
      "perimeter_worst radius_mean         0.965137\n",
      "radius_mean     perimeter_worst     0.965137\n",
      "area_mean       radius_worst        0.962746\n",
      "radius_worst    area_mean           0.962746\n",
      "area_worst      area_mean           0.959213\n",
      "area_mean       area_worst          0.959213\n",
      "                perimeter_worst     0.959120\n",
      "perimeter_worst area_mean           0.959120\n",
      "area_se         radius_se           0.951830\n",
      "radius_se       area_se             0.951830\n"
     ]
    }
   ],
   "source": [
    "corr = df.corr()\n",
    "corr_unstacked = corr.unstack()\n",
    "corr_unstacked_sorted = corr_unstacked.sort_values(kind=\"quicksort\", ascending=False)\n",
    "corr_df=pd.Series.to_frame(corr_unstacked_sorted, name='correlation')  #Convert Series to DataFrame and name correlation column accordingly.\n",
    "high_corr_features =  corr_df[corr_df.correlation != 1]  #Remove all 1s that correspond to self correlation\n",
    "print(high_corr_features.head(30))"
   ]
  },
  {
   "cell_type": "markdown",
   "metadata": {
    "id": "xFruSbnWC1b_"
   },
   "source": [
    "**2. Cleanup and preprocess data:** Remove null for structured data, extract features if not provided, select/drop appropriate features, balance classes, scale/normalize data, etc."
   ]
  },
  {
   "cell_type": "code",
   "execution_count": 9,
   "metadata": {
    "colab": {
     "base_uri": "https://localhost:8080/"
    },
    "id": "yR0W0G3XBR_f",
    "outputId": "6833cc27-33ba-4b92-9a66-75064c715c52"
   },
   "outputs": [
    {
     "name": "stdout",
     "output_type": "stream",
     "text": [
      "Index(['id', 'diagnosis', 'radius_mean', 'texture_mean', 'smoothness_mean',\n",
      "       'compactness_mean', 'concavity_mean', 'concave points_mean',\n",
      "       'symmetry_mean', 'fractal_dimension_mean', 'radius_se', 'texture_se',\n",
      "       'smoothness_se', 'compactness_se', 'concavity_se', 'concave points_se',\n",
      "       'symmetry_se', 'fractal_dimension_se', 'radius_worst', 'texture_worst',\n",
      "       'smoothness_worst', 'compactness_worst', 'concavity_worst',\n",
      "       'concave points_worst', 'symmetry_worst', 'fractal_dimension_worst'],\n",
      "      dtype='object')\n"
     ]
    }
   ],
   "source": [
    "#Drop features that are highly correlated with another feature.\n",
    "#In this case, let us just use Radius and drop area & perimeter.\n",
    "cols = [c for c in df.columns if c.lower()[:4] != 'area']  #Drop all column names starting with 'area'\n",
    "df=df[cols]  #Update the dataframe with new columns\n",
    "cols = [c for c in df.columns if c.lower()[:9] != 'perimeter'] #Drop all column names starting with 'perimeter'\n",
    "df=df[cols]  #Update the dataframe with new columns\n",
    "print(df.columns)"
   ]
  },
  {
   "cell_type": "code",
   "execution_count": 10,
   "metadata": {
    "colab": {
     "base_uri": "https://localhost:8080/"
    },
    "id": "vnjyJZThYqPg",
    "outputId": "37417ae1-652f-4d1f-f090-6825c1b22bb9"
   },
   "outputs": [
    {
     "name": "stdout",
     "output_type": "stream",
     "text": [
      "id                         0\n",
      "diagnosis                  0\n",
      "radius_mean                0\n",
      "texture_mean               0\n",
      "smoothness_mean            0\n",
      "compactness_mean           0\n",
      "concavity_mean             0\n",
      "concave points_mean        0\n",
      "symmetry_mean              0\n",
      "fractal_dimension_mean     0\n",
      "radius_se                  0\n",
      "texture_se                 0\n",
      "smoothness_se              0\n",
      "compactness_se             0\n",
      "concavity_se               0\n",
      "concave points_se          0\n",
      "symmetry_se                0\n",
      "fractal_dimension_se       0\n",
      "radius_worst               0\n",
      "texture_worst              0\n",
      "smoothness_worst           0\n",
      "compactness_worst          0\n",
      "concavity_worst            0\n",
      "concave points_worst       0\n",
      "symmetry_worst             0\n",
      "fractal_dimension_worst    0\n",
      "dtype: int64\n"
     ]
    }
   ],
   "source": [
    "print(df.isnull().sum())\n",
    "#df = df.dropna()"
   ]
  },
  {
   "cell_type": "code",
   "execution_count": 11,
   "metadata": {
    "colab": {
     "base_uri": "https://localhost:8080/"
    },
    "id": "1EUWeZDgY0NA",
    "outputId": "7da8fc9c-caa5-42aa-e126-509eae3ceba1"
   },
   "outputs": [
    {
     "name": "stdout",
     "output_type": "stream",
     "text": [
      "id                           int64\n",
      "Label                       object\n",
      "radius_mean                float64\n",
      "texture_mean               float64\n",
      "smoothness_mean            float64\n",
      "compactness_mean           float64\n",
      "concavity_mean             float64\n",
      "concave points_mean        float64\n",
      "symmetry_mean              float64\n",
      "fractal_dimension_mean     float64\n",
      "radius_se                  float64\n",
      "texture_se                 float64\n",
      "smoothness_se              float64\n",
      "compactness_se             float64\n",
      "concavity_se               float64\n",
      "concave points_se          float64\n",
      "symmetry_se                float64\n",
      "fractal_dimension_se       float64\n",
      "radius_worst               float64\n",
      "texture_worst              float64\n",
      "smoothness_worst           float64\n",
      "compactness_worst          float64\n",
      "concavity_worst            float64\n",
      "concave points_worst       float64\n",
      "symmetry_worst             float64\n",
      "fractal_dimension_worst    float64\n",
      "dtype: object\n"
     ]
    }
   ],
   "source": [
    "#Rename Dataset to Label to make it easy to understand\n",
    "df = df.rename(columns={'diagnosis':'Label'})\n",
    "print(df.dtypes)"
   ]
  },
  {
   "cell_type": "code",
   "execution_count": 12,
   "metadata": {
    "colab": {
     "base_uri": "https://localhost:8080/"
    },
    "id": "sHf0pr6mZ-sS",
    "outputId": "9372bbab-5519-4719-d9d8-329879f7c18a"
   },
   "outputs": [
    {
     "name": "stdout",
     "output_type": "stream",
     "text": [
      "Distribution of data:  B    357\n",
      "M    212\n",
      "Name: Label, dtype: int64\n",
      "Labels before encoding are:  ['B' 'M']\n",
      "Labels after encoding are:  [0 1]\n"
     ]
    }
   ],
   "source": [
    "####### Replace categorical values with numbers########\n",
    "print(\"Distribution of data: \", df['Label'].value_counts())\n",
    "\n",
    "#Define the dependent variable that needs to be predicted (labels)\n",
    "y = df[\"Label\"].values\n",
    "print(\"Labels before encoding are: \", np.unique(y))\n",
    "\n",
    "# Encoding categorical data from text (B and M) to integers (0 and 1)\n",
    "from sklearn.preprocessing import LabelEncoder\n",
    "labelencoder = LabelEncoder()\n",
    "Y = labelencoder.fit_transform(y) # M=1 and B=0\n",
    "print(\"Labels after encoding are: \", np.unique(Y))"
   ]
  },
  {
   "cell_type": "code",
   "execution_count": 13,
   "metadata": {
    "colab": {
     "base_uri": "https://localhost:8080/"
    },
    "id": "k4yc60BVajj9",
    "outputId": "0f070501-2259-4556-f821-0138ce019adb"
   },
   "outputs": [
    {
     "name": "stdout",
     "output_type": "stream",
     "text": [
      "                         count       mean       std        min        25%  \\\n",
      "radius_mean              569.0  14.127292  3.524049   6.981000  11.700000   \n",
      "texture_mean             569.0  19.289649  4.301036   9.710000  16.170000   \n",
      "smoothness_mean          569.0   0.096360  0.014064   0.052630   0.086370   \n",
      "compactness_mean         569.0   0.104341  0.052813   0.019380   0.064920   \n",
      "concavity_mean           569.0   0.088799  0.079720   0.000000   0.029560   \n",
      "concave points_mean      569.0   0.048919  0.038803   0.000000   0.020310   \n",
      "symmetry_mean            569.0   0.181162  0.027414   0.106000   0.161900   \n",
      "fractal_dimension_mean   569.0   0.062798  0.007060   0.049960   0.057700   \n",
      "radius_se                569.0   0.405172  0.277313   0.111500   0.232400   \n",
      "texture_se               569.0   1.216853  0.551648   0.360200   0.833900   \n",
      "smoothness_se            569.0   0.007041  0.003003   0.001713   0.005169   \n",
      "compactness_se           569.0   0.025478  0.017908   0.002252   0.013080   \n",
      "concavity_se             569.0   0.031894  0.030186   0.000000   0.015090   \n",
      "concave points_se        569.0   0.011796  0.006170   0.000000   0.007638   \n",
      "symmetry_se              569.0   0.020542  0.008266   0.007882   0.015160   \n",
      "fractal_dimension_se     569.0   0.003795  0.002646   0.000895   0.002248   \n",
      "radius_worst             569.0  16.269190  4.833242   7.930000  13.010000   \n",
      "texture_worst            569.0  25.677223  6.146258  12.020000  21.080000   \n",
      "smoothness_worst         569.0   0.132369  0.022832   0.071170   0.116600   \n",
      "compactness_worst        569.0   0.254265  0.157336   0.027290   0.147200   \n",
      "concavity_worst          569.0   0.272188  0.208624   0.000000   0.114500   \n",
      "concave points_worst     569.0   0.114606  0.065732   0.000000   0.064930   \n",
      "symmetry_worst           569.0   0.290076  0.061867   0.156500   0.250400   \n",
      "fractal_dimension_worst  569.0   0.083946  0.018061   0.055040   0.071460   \n",
      "\n",
      "                               50%        75%       max  \n",
      "radius_mean              13.370000  15.780000  28.11000  \n",
      "texture_mean             18.840000  21.800000  39.28000  \n",
      "smoothness_mean           0.095870   0.105300   0.16340  \n",
      "compactness_mean          0.092630   0.130400   0.34540  \n",
      "concavity_mean            0.061540   0.130700   0.42680  \n",
      "concave points_mean       0.033500   0.074000   0.20120  \n",
      "symmetry_mean             0.179200   0.195700   0.30400  \n",
      "fractal_dimension_mean    0.061540   0.066120   0.09744  \n",
      "radius_se                 0.324200   0.478900   2.87300  \n",
      "texture_se                1.108000   1.474000   4.88500  \n",
      "smoothness_se             0.006380   0.008146   0.03113  \n",
      "compactness_se            0.020450   0.032450   0.13540  \n",
      "concavity_se              0.025890   0.042050   0.39600  \n",
      "concave points_se         0.010930   0.014710   0.05279  \n",
      "symmetry_se               0.018730   0.023480   0.07895  \n",
      "fractal_dimension_se      0.003187   0.004558   0.02984  \n",
      "radius_worst             14.970000  18.790000  36.04000  \n",
      "texture_worst            25.410000  29.720000  49.54000  \n",
      "smoothness_worst          0.131300   0.146000   0.22260  \n",
      "compactness_worst         0.211900   0.339100   1.05800  \n",
      "concavity_worst           0.226700   0.382900   1.25200  \n",
      "concave points_worst      0.099930   0.161400   0.29100  \n",
      "symmetry_worst            0.282200   0.317900   0.66380  \n",
      "fractal_dimension_worst   0.080040   0.092080   0.20750  \n"
     ]
    }
   ],
   "source": [
    "#Define x and normalize / scale values\n",
    "\n",
    "#Define the independent variables. Drop label and ID, and normalize other data\n",
    "X = df.drop(labels = [\"Label\", \"id\"], axis=1)\n",
    "print(X.describe().T) #Needs scaling"
   ]
  },
  {
   "cell_type": "code",
   "execution_count": 14,
   "metadata": {
    "colab": {
     "base_uri": "https://localhost:8080/"
    },
    "id": "IFVtqnTHbCS9",
    "outputId": "6fccd7f0-e480-42f7-83d3-5598fbd6fece"
   },
   "outputs": [
    {
     "name": "stdout",
     "output_type": "stream",
     "text": [
      "[[0.52103744 0.0226581  0.59375282 ... 0.91202749 0.59846245 0.41886396]\n",
      " [0.64314449 0.27257355 0.28987993 ... 0.63917526 0.23358959 0.22287813]\n",
      " [0.60149557 0.3902604  0.51430893 ... 0.83505155 0.40370589 0.21343303]\n",
      " ...\n",
      " [0.45525108 0.62123774 0.28816467 ... 0.48728522 0.12872068 0.1519087 ]\n",
      " [0.64456434 0.66351031 0.58833619 ... 0.91065292 0.49714173 0.45231536]\n",
      " [0.03686876 0.50152181 0.         ... 0.         0.25744136 0.10068215]]\n"
     ]
    }
   ],
   "source": [
    "#Scale / normalize the values to bring them to similar range\n",
    "from sklearn.preprocessing import MinMaxScaler\n",
    "scaler = MinMaxScaler()\n",
    "scaler.fit(X)\n",
    "X = scaler.transform(X)\n",
    "print(X)  #Scaled values"
   ]
  },
  {
   "cell_type": "markdown",
   "metadata": {
    "id": "YbaE9yw5DIby"
   },
   "source": [
    "**3. Get data ready for training:** Reshape data and define X_train, X_test, X_val, y_train, y_test, y_val, define augmentation"
   ]
  },
  {
   "cell_type": "code",
   "execution_count": 15,
   "metadata": {
    "colab": {
     "base_uri": "https://localhost:8080/"
    },
    "id": "HjCYDT5kbUTz",
    "outputId": "46e66a75-acb6-4a5e-a1ba-fb14dfd27493"
   },
   "outputs": [
    {
     "name": "stdout",
     "output_type": "stream",
     "text": [
      "Shape of training data is:  (426, 24)\n",
      "Shape of testing data is:  (143, 24)\n"
     ]
    }
   ],
   "source": [
    "#Split data into train and test to verify accuracy after fitting the model.\n",
    "from sklearn.model_selection import train_test_split\n",
    "X_train, X_test, y_train, y_test = train_test_split(X, Y, test_size=0.25, random_state=42)\n",
    "print(\"Shape of training data is: \", X_train.shape)\n",
    "print(\"Shape of testing data is: \", X_test.shape)"
   ]
  },
  {
   "cell_type": "markdown",
   "metadata": {
    "id": "9Tl0Ws1vDT4O"
   },
   "source": [
    "**4. Define the model:** How many layers, appropriate activation functions, do you need to add dropout, appropriate optimizer, loss, metrics, use transfer learning?"
   ]
  },
  {
   "cell_type": "code",
   "execution_count": 16,
   "metadata": {
    "id": "NJiToUeIbmNx"
   },
   "outputs": [],
   "source": [
    "from keras.models import Sequential\n",
    "from keras.layers import Dense, Activation, Dropout"
   ]
  },
  {
   "cell_type": "code",
   "execution_count": 17,
   "metadata": {
    "colab": {
     "base_uri": "https://localhost:8080/"
    },
    "id": "d5KZ-t-Pb2-F",
    "outputId": "4120f742-8f08-453e-f6ba-2b3d380f4b1b"
   },
   "outputs": [
    {
     "name": "stdout",
     "output_type": "stream",
     "text": [
      "Model: \"sequential\"\n",
      "_________________________________________________________________\n",
      "Layer (type)                 Output Shape              Param #   \n",
      "=================================================================\n",
      "dense (Dense)                (None, 16)                400       \n",
      "_________________________________________________________________\n",
      "dropout (Dropout)            (None, 16)                0         \n",
      "_________________________________________________________________\n",
      "dense_1 (Dense)              (None, 1)                 17        \n",
      "_________________________________________________________________\n",
      "activation (Activation)      (None, 1)                 0         \n",
      "=================================================================\n",
      "Total params: 417\n",
      "Trainable params: 417\n",
      "Non-trainable params: 0\n",
      "_________________________________________________________________\n",
      "None\n"
     ]
    }
   ],
   "source": [
    "model = Sequential()\n",
    "model.add(Dense(16, input_dim=X_train.shape[1], activation='relu'))\n",
    "model.add(Dropout(0.2))\n",
    "model.add(Dense(1))\n",
    "model.add(Activation('sigmoid'))\n",
    "\n",
    "model.compile(loss='binary_crossentropy', optimizer='adam', metrics=['accuracy'])\n",
    "\n",
    "print(model.summary())"
   ]
  },
  {
   "cell_type": "markdown",
   "metadata": {
    "id": "Az6kAMF_DbQG"
   },
   "source": [
    "**5. Train the model:** Ensure enough validation data for good accuracy checks during training."
   ]
  },
  {
   "cell_type": "code",
   "execution_count": 18,
   "metadata": {
    "id": "NA-F7oq7GLSX"
   },
   "outputs": [],
   "source": [
    "#Add Callbacks, e.g. ModelCheckpoints, earlystopping, csvlogger.\n",
    "from keras.callbacks import ModelCheckpoint, EarlyStopping, CSVLogger\n",
    "\n",
    "#Overwrite the model each time accuracy improves. Saves a lot of space.\n",
    "#filepath=\"best_model.hdf5\" #File name includes epoch and validation accuracy.\n",
    "#filepath=\"weights-improvement-{epoch:02d}-{val_accuracy:.2f}.hdf5\"\n",
    "#checkpoint = ModelCheckpoint(filepath, monitor='val_accuracy', verbose=1, save_best_only=True, mode='auto')\n",
    "\n",
    "#csv_logger = CSVLogger('training.log')\n",
    "\n",
    "early_stop = EarlyStopping(monitor='val_loss', patience=3, verbose=1)\n",
    "#This callback will stop the training when there is no improvement in the validation loss for three consecutive epochs.\n",
    "\n",
    "callbacks_list = [early_stop]"
   ]
  },
  {
   "cell_type": "code",
   "execution_count": 20,
   "metadata": {
    "colab": {
     "base_uri": "https://localhost:8080/"
    },
    "id": "YhQev7Jmc3Z2",
    "outputId": "0ae2ec5f-a347-45a0-f490-14edb0e0f9e2"
   },
   "outputs": [
    {
     "name": "stdout",
     "output_type": "stream",
     "text": [
      "Epoch 1/100\n",
      "15/15 [==============================] - 0s 6ms/step - loss: 0.1201 - accuracy: 0.9624 - val_loss: 0.0988 - val_accuracy: 0.9720\n",
      "Epoch 2/100\n",
      "15/15 [==============================] - 0s 4ms/step - loss: 0.1213 - accuracy: 0.9695 - val_loss: 0.0986 - val_accuracy: 0.9720\n",
      "Epoch 3/100\n",
      "15/15 [==============================] - 0s 4ms/step - loss: 0.1295 - accuracy: 0.9554 - val_loss: 0.0974 - val_accuracy: 0.9720\n",
      "Epoch 4/100\n",
      "15/15 [==============================] - 0s 4ms/step - loss: 0.1254 - accuracy: 0.9554 - val_loss: 0.0952 - val_accuracy: 0.9790\n",
      "Epoch 5/100\n",
      "15/15 [==============================] - 0s 5ms/step - loss: 0.1277 - accuracy: 0.9624 - val_loss: 0.0963 - val_accuracy: 0.9720\n",
      "Epoch 6/100\n",
      "15/15 [==============================] - 0s 5ms/step - loss: 0.1285 - accuracy: 0.9554 - val_loss: 0.0948 - val_accuracy: 0.9790\n",
      "Epoch 7/100\n",
      "15/15 [==============================] - 0s 4ms/step - loss: 0.1289 - accuracy: 0.9554 - val_loss: 0.0924 - val_accuracy: 0.9720\n",
      "Epoch 8/100\n",
      "15/15 [==============================] - 0s 4ms/step - loss: 0.1199 - accuracy: 0.9554 - val_loss: 0.0925 - val_accuracy: 0.9720\n",
      "Epoch 9/100\n",
      "15/15 [==============================] - 0s 4ms/step - loss: 0.1200 - accuracy: 0.9671 - val_loss: 0.0916 - val_accuracy: 0.9720\n",
      "Epoch 10/100\n",
      "15/15 [==============================] - 0s 5ms/step - loss: 0.1288 - accuracy: 0.9531 - val_loss: 0.0927 - val_accuracy: 0.9790\n",
      "Epoch 11/100\n",
      "15/15 [==============================] - 0s 4ms/step - loss: 0.1159 - accuracy: 0.9648 - val_loss: 0.0906 - val_accuracy: 0.9720\n",
      "Epoch 12/100\n",
      "15/15 [==============================] - 0s 5ms/step - loss: 0.1209 - accuracy: 0.9601 - val_loss: 0.0948 - val_accuracy: 0.9720\n",
      "Epoch 13/100\n",
      "15/15 [==============================] - 0s 4ms/step - loss: 0.1113 - accuracy: 0.9695 - val_loss: 0.0929 - val_accuracy: 0.9720\n",
      "Epoch 14/100\n",
      "15/15 [==============================] - 0s 6ms/step - loss: 0.1286 - accuracy: 0.9531 - val_loss: 0.0888 - val_accuracy: 0.9720\n",
      "Epoch 15/100\n",
      "15/15 [==============================] - 0s 5ms/step - loss: 0.1089 - accuracy: 0.9718 - val_loss: 0.0876 - val_accuracy: 0.9720\n",
      "Epoch 16/100\n",
      "15/15 [==============================] - 0s 4ms/step - loss: 0.1143 - accuracy: 0.9624 - val_loss: 0.0879 - val_accuracy: 0.9720\n",
      "Epoch 17/100\n",
      "15/15 [==============================] - 0s 4ms/step - loss: 0.1078 - accuracy: 0.9601 - val_loss: 0.0893 - val_accuracy: 0.9790\n",
      "Epoch 18/100\n",
      "15/15 [==============================] - 0s 4ms/step - loss: 0.1130 - accuracy: 0.9671 - val_loss: 0.0908 - val_accuracy: 0.9720\n",
      "Epoch 00018: early stopping\n"
     ]
    }
   ],
   "source": [
    "#Fit with early stopping (and other) callback.\n",
    "history = model.fit(X_train, y_train, verbose=1, epochs=100, batch_size=30,\n",
    "                    validation_data=(X_test, y_test), callbacks=callbacks_list)\n"
   ]
  },
  {
   "cell_type": "markdown",
   "metadata": {
    "id": "lPdKMDMwD7po"
   },
   "source": [
    "**6. Re-train, if necessary:** Check accuracy on test data, understand learning curves and continue training the model, if needed."
   ]
  },
  {
   "cell_type": "code",
   "execution_count": 20,
   "metadata": {
    "colab": {
     "base_uri": "https://localhost:8080/",
     "height": 573
    },
    "id": "tUtN6d9keAQn",
    "outputId": "b59df2a9-9dc5-49c3-a1da-6ef5cda8d54e"
   },
   "outputs": [
    {
     "data": {
      "image/png": "[encoded data removed]",
      "text/plain": [
       "<Figure size 432x288 with 1 Axes>"
      ]
     },
     "metadata": {
      "needs_background": "light"
     },
     "output_type": "display_data"
    },
    {
     "data": {
      "image/png": "[encoded data removed]",
      "text/plain": [
       "<Figure size 432x288 with 1 Axes>"
      ]
     },
     "metadata": {
      "needs_background": "light"
     },
     "output_type": "display_data"
    }
   ],
   "source": [
    "#plot the training and validation accuracy and loss at each epoch\n",
    "loss = history.history['loss']\n",
    "val_loss = history.history['val_loss']\n",
    "epochs = range(1, len(loss) + 1)\n",
    "plt.plot(epochs, loss, 'y', label='Training loss')\n",
    "plt.plot(epochs, val_loss, 'r', label='Validation loss')\n",
    "plt.title('Training and validation loss')\n",
    "plt.xlabel('Epochs')\n",
    "plt.ylabel('Loss')\n",
    "plt.legend()\n",
    "plt.show()\n",
    "\n",
    "\n",
    "acc = history.history['accuracy']  #Use accuracy if acc doesn't work\n",
    "val_acc = history.history['val_accuracy']  #Use val_accuracy if acc doesn't work\n",
    "plt.plot(epochs, acc, 'y', label='Training acc')\n",
    "plt.plot(epochs, val_acc, 'r', label='Validation acc')\n",
    "plt.title('Training and validation accuracy')\n",
    "plt.xlabel('Epochs')\n",
    "plt.ylabel('Accuracy')\n",
    "plt.legend()\n",
    "plt.show()"
   ]
  },
  {
   "cell_type": "code",
   "execution_count": 21,
   "metadata": {
    "colab": {
     "base_uri": "https://localhost:8080/",
     "height": 282
    },
    "id": "lRYHH_A3eeQB",
    "outputId": "d9dd7746-e357-4ae1-a758-7ecef1564ad6"
   },
   "outputs": [
    {
     "data": {
      "text/plain": [
       "<AxesSubplot:>"
      ]
     },
     "execution_count": 21,
     "metadata": {},
     "output_type": "execute_result"
    },
    {
     "data": {
      "image/png": "[encoded data removed]",
      "text/plain": [
       "<Figure size 432x288 with 2 Axes>"
      ]
     },
     "metadata": {
      "needs_background": "light"
     },
     "output_type": "display_data"
    }
   ],
   "source": [
    "# Predicting the Test set results\n",
    "y_pred = model.predict(X_test)\n",
    "y_pred = (y_pred > 0.5)\n",
    "\n",
    "# Making the Confusion Matrix\n",
    "from sklearn.metrics import confusion_matrix\n",
    "cm = confusion_matrix(y_test, y_pred)\n",
    "\n",
    "sns.heatmap(cm, annot=True)"
   ]
  },
  {
   "cell_type": "code",
   "execution_count": 22,
   "metadata": {
    "id": "HtAr-BICEm4X"
   },
   "outputs": [
    {
     "name": "stdout",
     "output_type": "stream",
     "text": [
      "Epoch 1/50\n",
      "7/7 [==============================] - 0s 9ms/step - loss: 0.1945 - accuracy: 0.9343 - val_loss: 0.1467 - val_accuracy: 0.9441\n",
      "Epoch 2/50\n",
      "7/7 [==============================] - 0s 6ms/step - loss: 0.1877 - accuracy: 0.9413 - val_loss: 0.1440 - val_accuracy: 0.9441\n",
      "Epoch 3/50\n",
      "7/7 [==============================] - 0s 6ms/step - loss: 0.1810 - accuracy: 0.9554 - val_loss: 0.1427 - val_accuracy: 0.9510\n",
      "Epoch 4/50\n",
      "7/7 [==============================] - 0s 6ms/step - loss: 0.1982 - accuracy: 0.9413 - val_loss: 0.1426 - val_accuracy: 0.9441\n",
      "Epoch 5/50\n",
      "7/7 [==============================] - 0s 6ms/step - loss: 0.1913 - accuracy: 0.9390 - val_loss: 0.1413 - val_accuracy: 0.9441\n",
      "Epoch 6/50\n",
      "7/7 [==============================] - 0s 5ms/step - loss: 0.1780 - accuracy: 0.9484 - val_loss: 0.1399 - val_accuracy: 0.9510\n",
      "Epoch 7/50\n",
      "7/7 [==============================] - 0s 6ms/step - loss: 0.1710 - accuracy: 0.9366 - val_loss: 0.1398 - val_accuracy: 0.9441\n",
      "Epoch 8/50\n",
      "7/7 [==============================] - 0s 6ms/step - loss: 0.1774 - accuracy: 0.9390 - val_loss: 0.1390 - val_accuracy: 0.9441\n",
      "Epoch 9/50\n",
      "7/7 [==============================] - 0s 6ms/step - loss: 0.1884 - accuracy: 0.9249 - val_loss: 0.1373 - val_accuracy: 0.9441\n",
      "Epoch 10/50\n",
      "7/7 [==============================] - 0s 5ms/step - loss: 0.1753 - accuracy: 0.9366 - val_loss: 0.1360 - val_accuracy: 0.9510\n",
      "Epoch 11/50\n",
      "7/7 [==============================] - 0s 6ms/step - loss: 0.1709 - accuracy: 0.9390 - val_loss: 0.1348 - val_accuracy: 0.9510\n",
      "Epoch 12/50\n",
      "7/7 [==============================] - 0s 5ms/step - loss: 0.1692 - accuracy: 0.9577 - val_loss: 0.1342 - val_accuracy: 0.9510\n",
      "Epoch 13/50\n",
      "7/7 [==============================] - 0s 5ms/step - loss: 0.1834 - accuracy: 0.9249 - val_loss: 0.1344 - val_accuracy: 0.9510\n",
      "Epoch 14/50\n",
      "7/7 [==============================] - 0s 5ms/step - loss: 0.1744 - accuracy: 0.9460 - val_loss: 0.1342 - val_accuracy: 0.9580\n",
      "Epoch 15/50\n",
      "7/7 [==============================] - 0s 5ms/step - loss: 0.1762 - accuracy: 0.9343 - val_loss: 0.1338 - val_accuracy: 0.9580\n",
      "Epoch 16/50\n",
      "7/7 [==============================] - 0s 5ms/step - loss: 0.1595 - accuracy: 0.9554 - val_loss: 0.1320 - val_accuracy: 0.9510\n",
      "Epoch 17/50\n",
      "7/7 [==============================] - 0s 5ms/step - loss: 0.1739 - accuracy: 0.9319 - val_loss: 0.1288 - val_accuracy: 0.9580\n",
      "Epoch 18/50\n",
      "7/7 [==============================] - 0s 6ms/step - loss: 0.1720 - accuracy: 0.9484 - val_loss: 0.1278 - val_accuracy: 0.9580\n",
      "Epoch 19/50\n",
      "7/7 [==============================] - 0s 5ms/step - loss: 0.1643 - accuracy: 0.9460 - val_loss: 0.1268 - val_accuracy: 0.9580\n",
      "Epoch 20/50\n",
      "7/7 [==============================] - 0s 5ms/step - loss: 0.1714 - accuracy: 0.9343 - val_loss: 0.1266 - val_accuracy: 0.9510\n",
      "Epoch 21/50\n",
      "7/7 [==============================] - 0s 6ms/step - loss: 0.1643 - accuracy: 0.9413 - val_loss: 0.1268 - val_accuracy: 0.9650\n",
      "Epoch 22/50\n",
      "7/7 [==============================] - 0s 6ms/step - loss: 0.1675 - accuracy: 0.9437 - val_loss: 0.1260 - val_accuracy: 0.9650\n",
      "Epoch 23/50\n",
      "7/7 [==============================] - 0s 5ms/step - loss: 0.1790 - accuracy: 0.9413 - val_loss: 0.1254 - val_accuracy: 0.9650\n",
      "Epoch 24/50\n",
      "7/7 [==============================] - 0s 5ms/step - loss: 0.1687 - accuracy: 0.9413 - val_loss: 0.1259 - val_accuracy: 0.9580\n",
      "Epoch 25/50\n",
      "7/7 [==============================] - 0s 5ms/step - loss: 0.1687 - accuracy: 0.9390 - val_loss: 0.1244 - val_accuracy: 0.9650\n",
      "Epoch 26/50\n",
      "7/7 [==============================] - 0s 5ms/step - loss: 0.1660 - accuracy: 0.9390 - val_loss: 0.1222 - val_accuracy: 0.9650\n",
      "Epoch 27/50\n",
      "7/7 [==============================] - 0s 5ms/step - loss: 0.1609 - accuracy: 0.9554 - val_loss: 0.1219 - val_accuracy: 0.9650\n",
      "Epoch 28/50\n",
      "7/7 [==============================] - 0s 6ms/step - loss: 0.1710 - accuracy: 0.9319 - val_loss: 0.1211 - val_accuracy: 0.9650\n",
      "Epoch 29/50\n",
      "7/7 [==============================] - 0s 6ms/step - loss: 0.1710 - accuracy: 0.9319 - val_loss: 0.1217 - val_accuracy: 0.9650\n",
      "Epoch 30/50\n",
      "7/7 [==============================] - 0s 6ms/step - loss: 0.1523 - accuracy: 0.9437 - val_loss: 0.1213 - val_accuracy: 0.9650\n",
      "Epoch 31/50\n",
      "7/7 [==============================] - 0s 6ms/step - loss: 0.1566 - accuracy: 0.9413 - val_loss: 0.1209 - val_accuracy: 0.9720\n",
      "Epoch 32/50\n",
      "7/7 [==============================] - 0s 5ms/step - loss: 0.1571 - accuracy: 0.9460 - val_loss: 0.1191 - val_accuracy: 0.9650\n",
      "Epoch 33/50\n",
      "7/7 [==============================] - 0s 6ms/step - loss: 0.1631 - accuracy: 0.9460 - val_loss: 0.1191 - val_accuracy: 0.9650\n",
      "Epoch 34/50\n",
      "7/7 [==============================] - 0s 6ms/step - loss: 0.1555 - accuracy: 0.9601 - val_loss: 0.1192 - val_accuracy: 0.9720\n",
      "Epoch 35/50\n",
      "7/7 [==============================] - 0s 6ms/step - loss: 0.1664 - accuracy: 0.9413 - val_loss: 0.1196 - val_accuracy: 0.9720\n",
      "Epoch 36/50\n",
      "7/7 [==============================] - 0s 5ms/step - loss: 0.1480 - accuracy: 0.9531 - val_loss: 0.1191 - val_accuracy: 0.9720\n",
      "Epoch 37/50\n",
      "7/7 [==============================] - 0s 5ms/step - loss: 0.1583 - accuracy: 0.9343 - val_loss: 0.1185 - val_accuracy: 0.9720\n",
      "Epoch 38/50\n",
      "7/7 [==============================] - 0s 6ms/step - loss: 0.1565 - accuracy: 0.9437 - val_loss: 0.1162 - val_accuracy: 0.9720\n",
      "Epoch 39/50\n",
      "7/7 [==============================] - 0s 6ms/step - loss: 0.1619 - accuracy: 0.9507 - val_loss: 0.1145 - val_accuracy: 0.9650\n",
      "Epoch 40/50\n",
      "7/7 [==============================] - 0s 5ms/step - loss: 0.1589 - accuracy: 0.9319 - val_loss: 0.1145 - val_accuracy: 0.9720\n",
      "Epoch 41/50\n",
      "7/7 [==============================] - 0s 6ms/step - loss: 0.1553 - accuracy: 0.9507 - val_loss: 0.1131 - val_accuracy: 0.9650\n",
      "Epoch 42/50\n",
      "7/7 [==============================] - 0s 5ms/step - loss: 0.1630 - accuracy: 0.9413 - val_loss: 0.1117 - val_accuracy: 0.9720\n",
      "Epoch 43/50\n",
      "7/7 [==============================] - 0s 5ms/step - loss: 0.1618 - accuracy: 0.9460 - val_loss: 0.1114 - val_accuracy: 0.9720\n",
      "Epoch 44/50\n",
      "7/7 [==============================] - 0s 6ms/step - loss: 0.1704 - accuracy: 0.9366 - val_loss: 0.1125 - val_accuracy: 0.9720\n",
      "Epoch 45/50\n",
      "7/7 [==============================] - 0s 6ms/step - loss: 0.1524 - accuracy: 0.9437 - val_loss: 0.1128 - val_accuracy: 0.9720\n",
      "Epoch 46/50\n",
      "7/7 [==============================] - 0s 6ms/step - loss: 0.1650 - accuracy: 0.9437 - val_loss: 0.1126 - val_accuracy: 0.9720\n",
      "Epoch 47/50\n",
      "7/7 [==============================] - 0s 6ms/step - loss: 0.1510 - accuracy: 0.9507 - val_loss: 0.1106 - val_accuracy: 0.9720\n",
      "Epoch 48/50\n",
      "7/7 [==============================] - 0s 6ms/step - loss: 0.1502 - accuracy: 0.9507 - val_loss: 0.1089 - val_accuracy: 0.9720\n",
      "Epoch 49/50\n",
      "7/7 [==============================] - 0s 6ms/step - loss: 0.1480 - accuracy: 0.9554 - val_loss: 0.1085 - val_accuracy: 0.9790\n",
      "Epoch 50/50\n",
      "7/7 [==============================] - 0s 6ms/step - loss: 0.1518 - accuracy: 0.9460 - val_loss: 0.1098 - val_accuracy: 0.9720\n"
     ]
    }
   ],
   "source": [
    "#Re-train, if necessary. Here we are re-training for extra 50 epochs.\n",
    "#Since we are continuing the training using same model name (model), no need to save and import the model.\n",
    "history = model.fit(X_train, y_train, verbose=1, epochs=50, batch_size=64,\n",
    "                    validation_data=(X_test, y_test))"
   ]
  },
  {
   "cell_type": "markdown",
   "metadata": {
    "id": "kqLmwzw3EK5z"
   },
   "source": [
    "**7. Save the model for future use:**  "
   ]
  },
  {
   "cell_type": "code",
   "execution_count": 23,
   "metadata": {
    "id": "mboz_8DhENFP"
   },
   "outputs": [],
   "source": [
    "model.save('saved_model.h5')"
   ]
  },
  {
   "cell_type": "markdown",
   "metadata": {
    "id": "93aw-CdPFFFR"
   },
   "source": [
    "**8. Load model (in future) and use it to predict:**  "
   ]
  },
  {
   "cell_type": "code",
   "execution_count": 24,
   "metadata": {
    "colab": {
     "base_uri": "https://localhost:8080/",
     "height": 282
    },
    "id": "b5soaCwuE-GF",
    "outputId": "03c17ebd-55a1-47a8-d4e3-a9f69ce696eb"
   },
   "outputs": [
    {
     "data": {
      "text/plain": [
       "<AxesSubplot:>"
      ]
     },
     "execution_count": 24,
     "metadata": {},
     "output_type": "execute_result"
    },
    {
     "data": {
      "image/png": "[encoded data removed]",
      "text/plain": [
       "<Figure size 432x288 with 2 Axes>"
      ]
     },
     "metadata": {
      "needs_background": "light"
     },
     "output_type": "display_data"
    }
   ],
   "source": [
    "# Here, let us apply the loaded model to predict on our test data.\n",
    "from keras.models import load_model\n",
    "my_loaded_model = load_model('saved_model.h5')\n",
    "y_pred_loaded_model = my_loaded_model.predict(X_test)\n",
    "y_pred_loaded_model = (y_pred_loaded_model > 0.5)\n",
    "\n",
    "# Making the Confusion Matrix\n",
    "from sklearn.metrics import confusion_matrix\n",
    "cm = confusion_matrix(y_test, y_pred_loaded_model)\n",
    "\n",
    "sns.heatmap(cm, annot=True)"
   ]
  }
 ],
 "metadata": {
  "accelerator": "GPU",
  "colab": {
   "name": "tutorial107_7_steps_to_DL.ipynb",
   "provenance": []
  },
  "kernelspec": {
   "display_name": "Python 3 (ipykernel)",
   "language": "python",
   "name": "python3"
  },
  "language_info": {
   "codemirror_mode": {
    "name": "ipython",
    "version": 3
   },
   "file_extension": ".py",
   "mimetype": "text/x-python",
   "name": "python",
   "nbconvert_exporter": "python",
   "pygments_lexer": "ipython3",
   "version": "3.9.7"
  }
 },
 "nbformat": 4,
 "nbformat_minor": 1
}
