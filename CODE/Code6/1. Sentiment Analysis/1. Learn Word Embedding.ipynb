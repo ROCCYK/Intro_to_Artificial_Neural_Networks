version https://git-lfs.github.com/spec/v1
oid sha256:ed6119fe83be991129cc155035f940e57f99c497de07af20d8f48e75d6b0db84
size 13964
