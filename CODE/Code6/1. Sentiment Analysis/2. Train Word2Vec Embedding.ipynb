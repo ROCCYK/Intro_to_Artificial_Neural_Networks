version https://git-lfs.github.com/spec/v1
oid sha256:5e38d600fc06672927a9aa89ccfa3b663648e6a090991bb272db66f8b545c6f6
size 34777
