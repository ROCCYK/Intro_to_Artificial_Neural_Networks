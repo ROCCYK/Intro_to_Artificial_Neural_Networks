version https://git-lfs.github.com/spec/v1
oid sha256:763776d103d3b7f38a32198bc17c4244c7c0a25a09a5b6bb19b48e2a7c134fa5
size 278249
