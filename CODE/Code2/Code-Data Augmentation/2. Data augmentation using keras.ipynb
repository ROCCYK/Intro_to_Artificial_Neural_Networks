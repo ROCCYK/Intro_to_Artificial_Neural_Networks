version https://git-lfs.github.com/spec/v1
oid sha256:2ad28b6a308328ed3ef05574d2e05e0228e336d78eb05cd94a1537878f2ca044
size 11701
