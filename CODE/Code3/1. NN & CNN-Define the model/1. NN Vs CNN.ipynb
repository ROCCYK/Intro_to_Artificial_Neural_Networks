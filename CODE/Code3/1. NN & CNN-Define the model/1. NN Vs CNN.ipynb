version https://git-lfs.github.com/spec/v1
oid sha256:5ae80f52a73fd3a7e186b1f385b657eb049e8e5e80e329ad3cfea1e55aa45106
size 57875
